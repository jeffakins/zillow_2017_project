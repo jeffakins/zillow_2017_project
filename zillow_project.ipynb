{
 "cells": [
  {
   "cell_type": "markdown",
   "id": "064a5ab3",
   "metadata": {},
   "source": [
    "# Zillow Project\n",
    "### - By Jeff Akins"
   ]
  },
  {
   "cell_type": "code",
   "execution_count": 1,
   "id": "8c4287b6",
   "metadata": {},
   "outputs": [],
   "source": [
    "# Imports:\n",
    "import zillow_wrangle as zw\n",
    "import zillow_models as zm\n",
    "\n",
    "import pandas as pd\n",
    "import numpy as np"
   ]
  },
  {
   "cell_type": "markdown",
   "id": "c8159421",
   "metadata": {},
   "source": [
    "### Acquire"
   ]
  },
  {
   "cell_type": "code",
   "execution_count": 2,
   "id": "c2ecf0e7",
   "metadata": {},
   "outputs": [
    {
     "data": {
      "text/html": [
       "<div>\n",
       "<style scoped>\n",
       "    .dataframe tbody tr th:only-of-type {\n",
       "        vertical-align: middle;\n",
       "    }\n",
       "\n",
       "    .dataframe tbody tr th {\n",
       "        vertical-align: top;\n",
       "    }\n",
       "\n",
       "    .dataframe thead th {\n",
       "        text-align: right;\n",
       "    }\n",
       "</style>\n",
       "<table border=\"1\" class=\"dataframe\">\n",
       "  <thead>\n",
       "    <tr style=\"text-align: right;\">\n",
       "      <th></th>\n",
       "      <th>bedrooms</th>\n",
       "      <th>bathrooms</th>\n",
       "      <th>sqft</th>\n",
       "      <th>tax_value</th>\n",
       "      <th>year_built</th>\n",
       "      <th>tax_amount</th>\n",
       "    </tr>\n",
       "  </thead>\n",
       "  <tbody>\n",
       "    <tr>\n",
       "      <th>1440114</th>\n",
       "      <td>3</td>\n",
       "      <td>2.0</td>\n",
       "      <td>1157</td>\n",
       "      <td>360752.0</td>\n",
       "      <td>1963</td>\n",
       "      <td>4074.04</td>\n",
       "    </tr>\n",
       "    <tr>\n",
       "      <th>1569296</th>\n",
       "      <td>4</td>\n",
       "      <td>2.5</td>\n",
       "      <td>2581</td>\n",
       "      <td>350938.0</td>\n",
       "      <td>1972</td>\n",
       "      <td>8116.06</td>\n",
       "    </tr>\n",
       "    <tr>\n",
       "      <th>1745419</th>\n",
       "      <td>3</td>\n",
       "      <td>2.0</td>\n",
       "      <td>1397</td>\n",
       "      <td>270917.0</td>\n",
       "      <td>1954</td>\n",
       "      <td>3288.73</td>\n",
       "    </tr>\n",
       "  </tbody>\n",
       "</table>\n",
       "</div>"
      ],
      "text/plain": [
       "         bedrooms  bathrooms  sqft  tax_value  year_built  tax_amount\n",
       "1440114         3        2.0  1157   360752.0        1963     4074.04\n",
       "1569296         4        2.5  2581   350938.0        1972     8116.06\n",
       "1745419         3        2.0  1397   270917.0        1954     3288.73"
      ]
     },
     "execution_count": 2,
     "metadata": {},
     "output_type": "execute_result"
    }
   ],
   "source": [
    "train, validate, test = zw.wrangle_zillow()\n",
    "train.head(3)"
   ]
  },
  {
   "cell_type": "markdown",
   "id": "ec58a4b3",
   "metadata": {},
   "source": [
    "### Scaling"
   ]
  },
  {
   "cell_type": "markdown",
   "id": "684feeb1",
   "metadata": {},
   "source": [
    "### Explore"
   ]
  },
  {
   "cell_type": "markdown",
   "id": "8ce7005e",
   "metadata": {},
   "source": [
    "### Feature Engineer"
   ]
  },
  {
   "cell_type": "markdown",
   "id": "554f3e19",
   "metadata": {},
   "source": [
    "### Model"
   ]
  },
  {
   "cell_type": "markdown",
   "id": "309641e6",
   "metadata": {},
   "source": [
    "### Evaluate"
   ]
  },
  {
   "cell_type": "code",
   "execution_count": null,
   "id": "1a9ca2ab",
   "metadata": {},
   "outputs": [],
   "source": []
  }
 ],
 "metadata": {
  "kernelspec": {
   "display_name": "Python 3",
   "language": "python",
   "name": "python3"
  },
  "language_info": {
   "codemirror_mode": {
    "name": "ipython",
    "version": 3
   },
   "file_extension": ".py",
   "mimetype": "text/x-python",
   "name": "python",
   "nbconvert_exporter": "python",
   "pygments_lexer": "ipython3",
   "version": "3.8.8"
  }
 },
 "nbformat": 4,
 "nbformat_minor": 5
}
