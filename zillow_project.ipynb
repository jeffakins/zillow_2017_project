{
 "cells": [
  {
   "cell_type": "markdown",
   "id": "af3cfc41",
   "metadata": {},
   "source": [
    "# Zillow Project\n",
    "### - By Jeff Akins"
   ]
  },
  {
   "cell_type": "code",
   "execution_count": 1,
   "id": "51dce652",
   "metadata": {},
   "outputs": [],
   "source": [
    "# Imports:\n",
    "import zillow_wrangle as zw\n",
    "import zillow_models as zm\n",
    "\n",
    "import pandas as pd\n",
    "import numpy as np"
   ]
  },
  {
   "cell_type": "markdown",
   "id": "60d7e6a8",
   "metadata": {},
   "source": [
    "### Acquire"
   ]
  },
  {
   "cell_type": "code",
   "execution_count": 2,
   "id": "80f76f70",
   "metadata": {},
   "outputs": [
    {
     "data": {
      "text/html": [
       "<div>\n",
       "<style scoped>\n",
       "    .dataframe tbody tr th:only-of-type {\n",
       "        vertical-align: middle;\n",
       "    }\n",
       "\n",
       "    .dataframe tbody tr th {\n",
       "        vertical-align: top;\n",
       "    }\n",
       "\n",
       "    .dataframe thead th {\n",
       "        text-align: right;\n",
       "    }\n",
       "</style>\n",
       "<table border=\"1\" class=\"dataframe\">\n",
       "  <thead>\n",
       "    <tr style=\"text-align: right;\">\n",
       "      <th></th>\n",
       "      <th>bedrooms</th>\n",
       "      <th>bathrooms</th>\n",
       "      <th>sqft</th>\n",
       "      <th>tax_value</th>\n",
       "      <th>year_built</th>\n",
       "      <th>tax_amount</th>\n",
       "      <th>fips</th>\n",
       "      <th>zipcode</th>\n",
       "      <th>zipcode_count</th>\n",
       "      <th>zipcode_avg_price</th>\n",
       "      <th>_merge</th>\n",
       "    </tr>\n",
       "  </thead>\n",
       "  <tbody>\n",
       "    <tr>\n",
       "      <th>0</th>\n",
       "      <td>3</td>\n",
       "      <td>2.0</td>\n",
       "      <td>1772</td>\n",
       "      <td>418763.0</td>\n",
       "      <td>1978</td>\n",
       "      <td>4464.42</td>\n",
       "      <td>6111</td>\n",
       "      <td>97089</td>\n",
       "      <td>10244</td>\n",
       "      <td>408141</td>\n",
       "      <td>both</td>\n",
       "    </tr>\n",
       "    <tr>\n",
       "      <th>1</th>\n",
       "      <td>4</td>\n",
       "      <td>2.0</td>\n",
       "      <td>1896</td>\n",
       "      <td>94711.0</td>\n",
       "      <td>1957</td>\n",
       "      <td>1017.10</td>\n",
       "      <td>6111</td>\n",
       "      <td>97089</td>\n",
       "      <td>10244</td>\n",
       "      <td>408141</td>\n",
       "      <td>both</td>\n",
       "    </tr>\n",
       "    <tr>\n",
       "      <th>2</th>\n",
       "      <td>5</td>\n",
       "      <td>4.5</td>\n",
       "      <td>3980</td>\n",
       "      <td>769907.0</td>\n",
       "      <td>1999</td>\n",
       "      <td>8650.36</td>\n",
       "      <td>6111</td>\n",
       "      <td>97089</td>\n",
       "      <td>10244</td>\n",
       "      <td>408141</td>\n",
       "      <td>both</td>\n",
       "    </tr>\n",
       "  </tbody>\n",
       "</table>\n",
       "</div>"
      ],
      "text/plain": [
       "   bedrooms  bathrooms  sqft  tax_value  year_built  tax_amount  fips  \\\n",
       "0         3        2.0  1772   418763.0        1978     4464.42  6111   \n",
       "1         4        2.0  1896    94711.0        1957     1017.10  6111   \n",
       "2         5        4.5  3980   769907.0        1999     8650.36  6111   \n",
       "\n",
       "   zipcode  zipcode_count  zipcode_avg_price _merge  \n",
       "0    97089          10244             408141   both  \n",
       "1    97089          10244             408141   both  \n",
       "2    97089          10244             408141   both  "
      ]
     },
     "execution_count": 2,
     "metadata": {},
     "output_type": "execute_result"
    }
   ],
   "source": [
    "zillow = zw.wrangle_zillow()\n",
    "zillow.head(3)"
   ]
  },
  {
   "cell_type": "code",
   "execution_count": 3,
   "id": "96eee38b",
   "metadata": {},
   "outputs": [
    {
     "name": "stdout",
     "output_type": "stream",
     "text": [
      "<class 'pandas.core.frame.DataFrame'>\n",
      "Int64Index: 29789 entries, 0 to 29788\n",
      "Data columns (total 11 columns):\n",
      " #   Column             Non-Null Count  Dtype   \n",
      "---  ------             --------------  -----   \n",
      " 0   bedrooms           29789 non-null  int64   \n",
      " 1   bathrooms          29789 non-null  float64 \n",
      " 2   sqft               29789 non-null  int64   \n",
      " 3   tax_value          29789 non-null  float64 \n",
      " 4   year_built         29789 non-null  int64   \n",
      " 5   tax_amount         29789 non-null  float64 \n",
      " 6   fips               29789 non-null  int64   \n",
      " 7   zipcode            29789 non-null  int64   \n",
      " 8   zipcode_count      29789 non-null  int64   \n",
      " 9   zipcode_avg_price  29789 non-null  int64   \n",
      " 10  _merge             29789 non-null  category\n",
      "dtypes: category(1), float64(3), int64(7)\n",
      "memory usage: 2.5 MB\n"
     ]
    }
   ],
   "source": [
    "zillow.info()"
   ]
  },
  {
   "cell_type": "markdown",
   "id": "276d85c1",
   "metadata": {},
   "source": [
    "### Scaling"
   ]
  },
  {
   "cell_type": "markdown",
   "id": "7578b485",
   "metadata": {},
   "source": [
    "### Explore"
   ]
  },
  {
   "cell_type": "markdown",
   "id": "06bedcdc",
   "metadata": {},
   "source": [
    "### Feature Engineer"
   ]
  },
  {
   "cell_type": "markdown",
   "id": "f5b2b243",
   "metadata": {},
   "source": [
    "### Model"
   ]
  },
  {
   "cell_type": "markdown",
   "id": "5896b64c",
   "metadata": {},
   "source": [
    "### Evaluate"
   ]
  },
  {
   "cell_type": "code",
   "execution_count": null,
   "id": "d1e953d8",
   "metadata": {},
   "outputs": [],
   "source": []
  }
 ],
 "metadata": {
  "kernelspec": {
   "display_name": "Python 3",
   "language": "python",
   "name": "python3"
  },
  "language_info": {
   "codemirror_mode": {
    "name": "ipython",
    "version": 3
   },
   "file_extension": ".py",
   "mimetype": "text/x-python",
   "name": "python",
   "nbconvert_exporter": "python",
   "pygments_lexer": "ipython3",
   "version": "3.8.8"
  }
 },
 "nbformat": 4,
 "nbformat_minor": 5
}
