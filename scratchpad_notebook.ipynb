{
 "cells": [
  {
   "cell_type": "markdown",
   "id": "51f63bf8",
   "metadata": {},
   "source": [
    "## Scratchpad"
   ]
  },
  {
   "cell_type": "code",
   "execution_count": 6,
   "id": "2781c8c0",
   "metadata": {},
   "outputs": [],
   "source": [
    "import env\n",
    "import pandas as pd\n",
    "import numpy as np\n",
    "import os"
   ]
  },
  {
   "cell_type": "code",
   "execution_count": 11,
   "id": "150f0de8",
   "metadata": {},
   "outputs": [],
   "source": [
    "def get_connection(db, user=env.username, host=env.hostname, password=env.password):\n",
    "    connection_info = f'mysql+pymysql://{user}:{password}@{host}/{db}'\n",
    "    return connection_info"
   ]
  },
  {
   "cell_type": "code",
   "execution_count": 18,
   "id": "6ed7d747",
   "metadata": {},
   "outputs": [],
   "source": [
    "def get_zillow_data():\n",
    "    '''\n",
    "    Function to retrieve the 2017 Zillow Property Data Set from CODEUP's mySQL Server\n",
    "    '''\n",
    "    if os.path.isfile('2017_zillow_hot_month_properties.csv'):\n",
    "        df = pd.read_csv('2017_zillow_hot_month_properties.csv', index_col=0)  # If csv file exists read in data from csv file.\n",
    "    else:\n",
    "        sql = '''\n",
    "                SELECT bedroomcnt, bathroomcnt, \n",
    "                    calculatedfinishedsquarefeet, \n",
    "                    taxvaluedollarcnt, yearbuilt, \n",
    "                    taxamount, fips, regionidzip \n",
    "                FROM properties_2017\n",
    "                JOIN predictions_2017 USING(id)\n",
    "                WHERE propertylandusetypeid = 261\n",
    "                    AND transactiondate BETWEEN '2017-05-01' AND '2017-09-01';\n",
    "                '''   # SQL query\n",
    "                                                    \n",
    "        db = 'zillow'                                   # Database name\n",
    "        df = pd.read_sql(sql, get_connection(db))       # Pandas DataFrame\n",
    "        df.to_csv('2017_zillow_hot_month_properties.csv')         # Cache Data\n",
    "    return df"
   ]
  },
  {
   "cell_type": "code",
   "execution_count": 19,
   "id": "f658f9d9",
   "metadata": {},
   "outputs": [],
   "source": [
    "def get_zipcode_data():\n",
    "    '''\n",
    "    Function to retrieve the 2016 Zillow average zipcode Data from CODEUP's mySQL Server\n",
    "    '''\n",
    "    if os.path.isfile('2016_zillow_zipcodes.csv'):\n",
    "        df = pd.read_csv('2016_zillow_zipcodes.csv', index_col=0)  # If csv file exists read in data from csv file.\n",
    "    else:\n",
    "        sql = '''\n",
    "                SELECT COUNT(regionidzip) AS zipcode_count, \n",
    "                    regionidzip AS zipcode, \n",
    "                    ROUND(AVG(taxvaluedollarcnt),0) AS zipcode_avg_price\n",
    "                FROM properties_2016\n",
    "                WHERE propertylandusetypeid = 261\n",
    "                GROUP BY regionidzip\n",
    "                ORDER BY AVG(taxvaluedollarcnt) DESC;'''   # SQL query\n",
    "                                                    \n",
    "        db = 'zillow'                                   # Database name\n",
    "        df = pd.read_sql(sql, get_connection(db))       # Pandas DataFrame\n",
    "        df.to_csv('2016_zillow_zipcodes.csv')         # Cache Data\n",
    "    return df"
   ]
  },
  {
   "cell_type": "code",
   "execution_count": 20,
   "id": "be2702e6",
   "metadata": {},
   "outputs": [
    {
     "data": {
      "text/html": [
       "<div>\n",
       "<style scoped>\n",
       "    .dataframe tbody tr th:only-of-type {\n",
       "        vertical-align: middle;\n",
       "    }\n",
       "\n",
       "    .dataframe tbody tr th {\n",
       "        vertical-align: top;\n",
       "    }\n",
       "\n",
       "    .dataframe thead th {\n",
       "        text-align: right;\n",
       "    }\n",
       "</style>\n",
       "<table border=\"1\" class=\"dataframe\">\n",
       "  <thead>\n",
       "    <tr style=\"text-align: right;\">\n",
       "      <th></th>\n",
       "      <th>bedroomcnt</th>\n",
       "      <th>bathroomcnt</th>\n",
       "      <th>calculatedfinishedsquarefeet</th>\n",
       "      <th>taxvaluedollarcnt</th>\n",
       "      <th>yearbuilt</th>\n",
       "      <th>taxamount</th>\n",
       "      <th>fips</th>\n",
       "      <th>regionidzip</th>\n",
       "    </tr>\n",
       "  </thead>\n",
       "  <tbody>\n",
       "    <tr>\n",
       "      <th>0</th>\n",
       "      <td>3.0</td>\n",
       "      <td>2.0</td>\n",
       "      <td>1772.0</td>\n",
       "      <td>418763.0</td>\n",
       "      <td>1978.0</td>\n",
       "      <td>4464.42</td>\n",
       "      <td>6111.0</td>\n",
       "      <td>97089.0</td>\n",
       "    </tr>\n",
       "    <tr>\n",
       "      <th>1</th>\n",
       "      <td>3.0</td>\n",
       "      <td>2.0</td>\n",
       "      <td>1819.0</td>\n",
       "      <td>478430.0</td>\n",
       "      <td>1981.0</td>\n",
       "      <td>5515.94</td>\n",
       "      <td>6111.0</td>\n",
       "      <td>97118.0</td>\n",
       "    </tr>\n",
       "    <tr>\n",
       "      <th>2</th>\n",
       "      <td>2.0</td>\n",
       "      <td>2.0</td>\n",
       "      <td>1503.0</td>\n",
       "      <td>171687.0</td>\n",
       "      <td>1933.0</td>\n",
       "      <td>2287.55</td>\n",
       "      <td>6037.0</td>\n",
       "      <td>96414.0</td>\n",
       "    </tr>\n",
       "    <tr>\n",
       "      <th>3</th>\n",
       "      <td>4.0</td>\n",
       "      <td>2.0</td>\n",
       "      <td>1604.0</td>\n",
       "      <td>498347.0</td>\n",
       "      <td>1950.0</td>\n",
       "      <td>6089.82</td>\n",
       "      <td>6037.0</td>\n",
       "      <td>96415.0</td>\n",
       "    </tr>\n",
       "    <tr>\n",
       "      <th>4</th>\n",
       "      <td>3.0</td>\n",
       "      <td>3.0</td>\n",
       "      <td>2384.0</td>\n",
       "      <td>549917.0</td>\n",
       "      <td>1937.0</td>\n",
       "      <td>6679.55</td>\n",
       "      <td>6037.0</td>\n",
       "      <td>96452.0</td>\n",
       "    </tr>\n",
       "  </tbody>\n",
       "</table>\n",
       "</div>"
      ],
      "text/plain": [
       "   bedroomcnt  bathroomcnt  calculatedfinishedsquarefeet  taxvaluedollarcnt  \\\n",
       "0         3.0          2.0                        1772.0           418763.0   \n",
       "1         3.0          2.0                        1819.0           478430.0   \n",
       "2         2.0          2.0                        1503.0           171687.0   \n",
       "3         4.0          2.0                        1604.0           498347.0   \n",
       "4         3.0          3.0                        2384.0           549917.0   \n",
       "\n",
       "   yearbuilt  taxamount    fips  regionidzip  \n",
       "0     1978.0    4464.42  6111.0      97089.0  \n",
       "1     1981.0    5515.94  6111.0      97118.0  \n",
       "2     1933.0    2287.55  6037.0      96414.0  \n",
       "3     1950.0    6089.82  6037.0      96415.0  \n",
       "4     1937.0    6679.55  6037.0      96452.0  "
      ]
     },
     "execution_count": 20,
     "metadata": {},
     "output_type": "execute_result"
    }
   ],
   "source": [
    "zillow = get_zillow_data()\n",
    "zillow.head()"
   ]
  },
  {
   "cell_type": "code",
   "execution_count": 21,
   "id": "3238332b",
   "metadata": {},
   "outputs": [
    {
     "data": {
      "text/html": [
       "<div>\n",
       "<style scoped>\n",
       "    .dataframe tbody tr th:only-of-type {\n",
       "        vertical-align: middle;\n",
       "    }\n",
       "\n",
       "    .dataframe tbody tr th {\n",
       "        vertical-align: top;\n",
       "    }\n",
       "\n",
       "    .dataframe thead th {\n",
       "        text-align: right;\n",
       "    }\n",
       "</style>\n",
       "<table border=\"1\" class=\"dataframe\">\n",
       "  <thead>\n",
       "    <tr style=\"text-align: right;\">\n",
       "      <th></th>\n",
       "      <th>zipcode_count</th>\n",
       "      <th>zipcode</th>\n",
       "      <th>zipcode_avg_price</th>\n",
       "    </tr>\n",
       "  </thead>\n",
       "  <tbody>\n",
       "    <tr>\n",
       "      <th>0</th>\n",
       "      <td>7103</td>\n",
       "      <td>96086.0</td>\n",
       "      <td>2847596.0</td>\n",
       "    </tr>\n",
       "    <tr>\n",
       "      <th>1</th>\n",
       "      <td>2856</td>\n",
       "      <td>96975.0</td>\n",
       "      <td>2768183.0</td>\n",
       "    </tr>\n",
       "    <tr>\n",
       "      <th>2</th>\n",
       "      <td>3102</td>\n",
       "      <td>96058.0</td>\n",
       "      <td>2607519.0</td>\n",
       "    </tr>\n",
       "    <tr>\n",
       "      <th>3</th>\n",
       "      <td>5625</td>\n",
       "      <td>96116.0</td>\n",
       "      <td>2186823.0</td>\n",
       "    </tr>\n",
       "    <tr>\n",
       "      <th>4</th>\n",
       "      <td>7490</td>\n",
       "      <td>96030.0</td>\n",
       "      <td>1822090.0</td>\n",
       "    </tr>\n",
       "  </tbody>\n",
       "</table>\n",
       "</div>"
      ],
      "text/plain": [
       "   zipcode_count  zipcode  zipcode_avg_price\n",
       "0           7103  96086.0          2847596.0\n",
       "1           2856  96975.0          2768183.0\n",
       "2           3102  96058.0          2607519.0\n",
       "3           5625  96116.0          2186823.0\n",
       "4           7490  96030.0          1822090.0"
      ]
     },
     "execution_count": 21,
     "metadata": {},
     "output_type": "execute_result"
    }
   ],
   "source": [
    "zips = get_zipcode_data()\n",
    "zips.head()"
   ]
  },
  {
   "cell_type": "code",
   "execution_count": 27,
   "id": "50c3a34d",
   "metadata": {},
   "outputs": [
    {
     "name": "stdout",
     "output_type": "stream",
     "text": [
      "<class 'pandas.core.frame.DataFrame'>\n",
      "RangeIndex: 399 entries, 0 to 398\n",
      "Data columns (total 3 columns):\n",
      " #   Column             Non-Null Count  Dtype  \n",
      "---  ------             --------------  -----  \n",
      " 0   zipcode_count      399 non-null    int64  \n",
      " 1   zipcode            398 non-null    float64\n",
      " 2   zipcode_avg_price  399 non-null    float64\n",
      "dtypes: float64(2), int64(1)\n",
      "memory usage: 9.5 KB\n"
     ]
    }
   ],
   "source": [
    "zips.info()"
   ]
  },
  {
   "cell_type": "code",
   "execution_count": 39,
   "id": "e81c8bf3",
   "metadata": {},
   "outputs": [
    {
     "data": {
      "text/plain": [
       "zipcode_count        0\n",
       "zipcode              1\n",
       "zipcode_avg_price    0\n",
       "dtype: int64"
      ]
     },
     "execution_count": 39,
     "metadata": {},
     "output_type": "execute_result"
    }
   ],
   "source": [
    "zips.isnull().sum()"
   ]
  },
  {
   "cell_type": "code",
   "execution_count": 40,
   "id": "b91e3209",
   "metadata": {},
   "outputs": [],
   "source": [
    "zips = zips.replace(r'^\\s*$', np.nan, regex=True)"
   ]
  },
  {
   "cell_type": "code",
   "execution_count": 41,
   "id": "d83e986c",
   "metadata": {},
   "outputs": [
    {
     "data": {
      "text/plain": [
       "zipcode_count        0\n",
       "zipcode              1\n",
       "zipcode_avg_price    0\n",
       "dtype: int64"
      ]
     },
     "execution_count": 41,
     "metadata": {},
     "output_type": "execute_result"
    }
   ],
   "source": [
    "zips.isnull().sum()"
   ]
  },
  {
   "cell_type": "code",
   "execution_count": 42,
   "id": "51258e18",
   "metadata": {},
   "outputs": [
    {
     "name": "stdout",
     "output_type": "stream",
     "text": [
      "<class 'pandas.core.frame.DataFrame'>\n",
      "Int64Index: 398 entries, 0 to 398\n",
      "Data columns (total 3 columns):\n",
      " #   Column             Non-Null Count  Dtype  \n",
      "---  ------             --------------  -----  \n",
      " 0   zipcode_count      398 non-null    int64  \n",
      " 1   zipcode            398 non-null    float64\n",
      " 2   zipcode_avg_price  398 non-null    float64\n",
      "dtypes: float64(2), int64(1)\n",
      "memory usage: 12.4 KB\n"
     ]
    }
   ],
   "source": [
    "zips = zips.dropna()\n",
    "zips.info()"
   ]
  },
  {
   "cell_type": "code",
   "execution_count": 43,
   "id": "dea2abc1",
   "metadata": {},
   "outputs": [
    {
     "data": {
      "text/html": [
       "<div>\n",
       "<style scoped>\n",
       "    .dataframe tbody tr th:only-of-type {\n",
       "        vertical-align: middle;\n",
       "    }\n",
       "\n",
       "    .dataframe tbody tr th {\n",
       "        vertical-align: top;\n",
       "    }\n",
       "\n",
       "    .dataframe thead th {\n",
       "        text-align: right;\n",
       "    }\n",
       "</style>\n",
       "<table border=\"1\" class=\"dataframe\">\n",
       "  <thead>\n",
       "    <tr style=\"text-align: right;\">\n",
       "      <th></th>\n",
       "      <th>zipcode_count</th>\n",
       "      <th>zipcode</th>\n",
       "      <th>zipcode_avg_price</th>\n",
       "    </tr>\n",
       "  </thead>\n",
       "  <tbody>\n",
       "    <tr>\n",
       "      <th>0</th>\n",
       "      <td>7103</td>\n",
       "      <td>96086</td>\n",
       "      <td>2847596</td>\n",
       "    </tr>\n",
       "    <tr>\n",
       "      <th>1</th>\n",
       "      <td>2856</td>\n",
       "      <td>96975</td>\n",
       "      <td>2768183</td>\n",
       "    </tr>\n",
       "    <tr>\n",
       "      <th>2</th>\n",
       "      <td>3102</td>\n",
       "      <td>96058</td>\n",
       "      <td>2607519</td>\n",
       "    </tr>\n",
       "    <tr>\n",
       "      <th>3</th>\n",
       "      <td>5625</td>\n",
       "      <td>96116</td>\n",
       "      <td>2186823</td>\n",
       "    </tr>\n",
       "    <tr>\n",
       "      <th>4</th>\n",
       "      <td>7490</td>\n",
       "      <td>96030</td>\n",
       "      <td>1822090</td>\n",
       "    </tr>\n",
       "  </tbody>\n",
       "</table>\n",
       "</div>"
      ],
      "text/plain": [
       "   zipcode_count  zipcode  zipcode_avg_price\n",
       "0           7103    96086            2847596\n",
       "1           2856    96975            2768183\n",
       "2           3102    96058            2607519\n",
       "3           5625    96116            2186823\n",
       "4           7490    96030            1822090"
      ]
     },
     "execution_count": 43,
     "metadata": {},
     "output_type": "execute_result"
    }
   ],
   "source": [
    "zips = zips.astype('int64')\n",
    "zips.head()"
   ]
  },
  {
   "cell_type": "code",
   "execution_count": null,
   "id": "53d7112e",
   "metadata": {},
   "outputs": [],
   "source": []
  }
 ],
 "metadata": {
  "kernelspec": {
   "display_name": "Python 3",
   "language": "python",
   "name": "python3"
  },
  "language_info": {
   "codemirror_mode": {
    "name": "ipython",
    "version": 3
   },
   "file_extension": ".py",
   "mimetype": "text/x-python",
   "name": "python",
   "nbconvert_exporter": "python",
   "pygments_lexer": "ipython3",
   "version": "3.8.8"
  }
 },
 "nbformat": 4,
 "nbformat_minor": 5
}
