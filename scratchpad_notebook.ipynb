{
 "cells": [
  {
   "cell_type": "markdown",
   "id": "590a6a09",
   "metadata": {},
   "source": [
    "## Scratchpad"
   ]
  },
  {
   "cell_type": "code",
   "execution_count": 1,
   "id": "79d36eb2",
   "metadata": {},
   "outputs": [],
   "source": [
    "import env\n",
    "import zillow_wrangle as zw\n",
    "import pandas as pd\n",
    "import numpy as np\n",
    "import os"
   ]
  },
  {
   "cell_type": "code",
   "execution_count": 2,
   "id": "19189ac5",
   "metadata": {},
   "outputs": [
    {
     "data": {
      "text/html": [
       "<div>\n",
       "<style scoped>\n",
       "    .dataframe tbody tr th:only-of-type {\n",
       "        vertical-align: middle;\n",
       "    }\n",
       "\n",
       "    .dataframe tbody tr th {\n",
       "        vertical-align: top;\n",
       "    }\n",
       "\n",
       "    .dataframe thead th {\n",
       "        text-align: right;\n",
       "    }\n",
       "</style>\n",
       "<table border=\"1\" class=\"dataframe\">\n",
       "  <thead>\n",
       "    <tr style=\"text-align: right;\">\n",
       "      <th></th>\n",
       "      <th>bedroomcnt</th>\n",
       "      <th>bathroomcnt</th>\n",
       "      <th>calculatedfinishedsquarefeet</th>\n",
       "      <th>taxvaluedollarcnt</th>\n",
       "      <th>yearbuilt</th>\n",
       "      <th>taxamount</th>\n",
       "      <th>fips</th>\n",
       "      <th>regionidzip</th>\n",
       "    </tr>\n",
       "  </thead>\n",
       "  <tbody>\n",
       "    <tr>\n",
       "      <th>0</th>\n",
       "      <td>3.0</td>\n",
       "      <td>2.0</td>\n",
       "      <td>1772.0</td>\n",
       "      <td>418763.0</td>\n",
       "      <td>1978.0</td>\n",
       "      <td>4464.42</td>\n",
       "      <td>6111.0</td>\n",
       "      <td>97089.0</td>\n",
       "    </tr>\n",
       "    <tr>\n",
       "      <th>1</th>\n",
       "      <td>3.0</td>\n",
       "      <td>2.0</td>\n",
       "      <td>1819.0</td>\n",
       "      <td>478430.0</td>\n",
       "      <td>1981.0</td>\n",
       "      <td>5515.94</td>\n",
       "      <td>6111.0</td>\n",
       "      <td>97118.0</td>\n",
       "    </tr>\n",
       "    <tr>\n",
       "      <th>2</th>\n",
       "      <td>2.0</td>\n",
       "      <td>2.0</td>\n",
       "      <td>1503.0</td>\n",
       "      <td>171687.0</td>\n",
       "      <td>1933.0</td>\n",
       "      <td>2287.55</td>\n",
       "      <td>6037.0</td>\n",
       "      <td>96414.0</td>\n",
       "    </tr>\n",
       "    <tr>\n",
       "      <th>3</th>\n",
       "      <td>4.0</td>\n",
       "      <td>2.0</td>\n",
       "      <td>1604.0</td>\n",
       "      <td>498347.0</td>\n",
       "      <td>1950.0</td>\n",
       "      <td>6089.82</td>\n",
       "      <td>6037.0</td>\n",
       "      <td>96415.0</td>\n",
       "    </tr>\n",
       "    <tr>\n",
       "      <th>4</th>\n",
       "      <td>3.0</td>\n",
       "      <td>3.0</td>\n",
       "      <td>2384.0</td>\n",
       "      <td>549917.0</td>\n",
       "      <td>1937.0</td>\n",
       "      <td>6679.55</td>\n",
       "      <td>6037.0</td>\n",
       "      <td>96452.0</td>\n",
       "    </tr>\n",
       "  </tbody>\n",
       "</table>\n",
       "</div>"
      ],
      "text/plain": [
       "   bedroomcnt  bathroomcnt  calculatedfinishedsquarefeet  taxvaluedollarcnt  \\\n",
       "0         3.0          2.0                        1772.0           418763.0   \n",
       "1         3.0          2.0                        1819.0           478430.0   \n",
       "2         2.0          2.0                        1503.0           171687.0   \n",
       "3         4.0          2.0                        1604.0           498347.0   \n",
       "4         3.0          3.0                        2384.0           549917.0   \n",
       "\n",
       "   yearbuilt  taxamount    fips  regionidzip  \n",
       "0     1978.0    4464.42  6111.0      97089.0  \n",
       "1     1981.0    5515.94  6111.0      97118.0  \n",
       "2     1933.0    2287.55  6037.0      96414.0  \n",
       "3     1950.0    6089.82  6037.0      96415.0  \n",
       "4     1937.0    6679.55  6037.0      96452.0  "
      ]
     },
     "execution_count": 2,
     "metadata": {},
     "output_type": "execute_result"
    }
   ],
   "source": [
    "zillow = zw.get_zillow_data()\n",
    "zillow.head()"
   ]
  },
  {
   "cell_type": "code",
   "execution_count": 3,
   "id": "eea80393",
   "metadata": {},
   "outputs": [
    {
     "data": {
      "text/plain": [
       "6037    20951\n",
       "6059     8254\n",
       "6111     1665\n",
       "Name: fips, dtype: int64"
      ]
     },
     "execution_count": 3,
     "metadata": {},
     "output_type": "execute_result"
    }
   ],
   "source": [
    "zillow.fips = zillow.fips.astype('int64')\n",
    "zillow.fips.value_counts()"
   ]
  },
  {
   "cell_type": "code",
   "execution_count": 4,
   "id": "4f70fb8d",
   "metadata": {},
   "outputs": [
    {
     "data": {
      "text/html": [
       "<div>\n",
       "<style scoped>\n",
       "    .dataframe tbody tr th:only-of-type {\n",
       "        vertical-align: middle;\n",
       "    }\n",
       "\n",
       "    .dataframe tbody tr th {\n",
       "        vertical-align: top;\n",
       "    }\n",
       "\n",
       "    .dataframe thead th {\n",
       "        text-align: right;\n",
       "    }\n",
       "</style>\n",
       "<table border=\"1\" class=\"dataframe\">\n",
       "  <thead>\n",
       "    <tr style=\"text-align: right;\">\n",
       "      <th></th>\n",
       "      <th>fips</th>\n",
       "      <th>county</th>\n",
       "      <th>state</th>\n",
       "    </tr>\n",
       "  </thead>\n",
       "  <tbody>\n",
       "    <tr>\n",
       "      <th>0</th>\n",
       "      <td>6037</td>\n",
       "      <td>Los Angeles County</td>\n",
       "      <td>CA</td>\n",
       "    </tr>\n",
       "    <tr>\n",
       "      <th>1</th>\n",
       "      <td>6059</td>\n",
       "      <td>Orange County</td>\n",
       "      <td>CA</td>\n",
       "    </tr>\n",
       "    <tr>\n",
       "      <th>2</th>\n",
       "      <td>6111</td>\n",
       "      <td>Ventura County</td>\n",
       "      <td>CA</td>\n",
       "    </tr>\n",
       "  </tbody>\n",
       "</table>\n",
       "</div>"
      ],
      "text/plain": [
       "   fips              county state\n",
       "0  6037  Los Angeles County    CA\n",
       "1  6059       Orange County    CA\n",
       "2  6111      Ventura County    CA"
      ]
     },
     "execution_count": 4,
     "metadata": {},
     "output_type": "execute_result"
    }
   ],
   "source": [
    "fips = {'fips': [6037, 6059, 6111],\n",
    "       'county': ['Los Angeles County', 'Orange County', 'Ventura County'],\n",
    "       'state': ['CA', 'CA', 'CA']}\n",
    "\n",
    "fips_name = pd.DataFrame(data=fips)\n",
    "fips_name"
   ]
  },
  {
   "cell_type": "code",
   "execution_count": 5,
   "id": "ebc7d834",
   "metadata": {},
   "outputs": [],
   "source": [
    "zillow = zillow.merge(fips_name, left_on='fips', right_on='fips', how='outer', indicator=False)\n"
   ]
  },
  {
   "cell_type": "code",
   "execution_count": 6,
   "id": "23705374",
   "metadata": {},
   "outputs": [
    {
     "data": {
      "text/html": [
       "<div>\n",
       "<style scoped>\n",
       "    .dataframe tbody tr th:only-of-type {\n",
       "        vertical-align: middle;\n",
       "    }\n",
       "\n",
       "    .dataframe tbody tr th {\n",
       "        vertical-align: top;\n",
       "    }\n",
       "\n",
       "    .dataframe thead th {\n",
       "        text-align: right;\n",
       "    }\n",
       "</style>\n",
       "<table border=\"1\" class=\"dataframe\">\n",
       "  <thead>\n",
       "    <tr style=\"text-align: right;\">\n",
       "      <th></th>\n",
       "      <th>bedroomcnt</th>\n",
       "      <th>bathroomcnt</th>\n",
       "      <th>calculatedfinishedsquarefeet</th>\n",
       "      <th>taxvaluedollarcnt</th>\n",
       "      <th>yearbuilt</th>\n",
       "      <th>taxamount</th>\n",
       "      <th>fips</th>\n",
       "      <th>regionidzip</th>\n",
       "      <th>county</th>\n",
       "      <th>state</th>\n",
       "    </tr>\n",
       "  </thead>\n",
       "  <tbody>\n",
       "    <tr>\n",
       "      <th>0</th>\n",
       "      <td>3.0</td>\n",
       "      <td>2.0</td>\n",
       "      <td>1772.0</td>\n",
       "      <td>418763.0</td>\n",
       "      <td>1978.0</td>\n",
       "      <td>4464.42</td>\n",
       "      <td>6111</td>\n",
       "      <td>97089.0</td>\n",
       "      <td>Ventura County</td>\n",
       "      <td>CA</td>\n",
       "    </tr>\n",
       "    <tr>\n",
       "      <th>1</th>\n",
       "      <td>3.0</td>\n",
       "      <td>2.0</td>\n",
       "      <td>1819.0</td>\n",
       "      <td>478430.0</td>\n",
       "      <td>1981.0</td>\n",
       "      <td>5515.94</td>\n",
       "      <td>6111</td>\n",
       "      <td>97118.0</td>\n",
       "      <td>Ventura County</td>\n",
       "      <td>CA</td>\n",
       "    </tr>\n",
       "    <tr>\n",
       "      <th>2</th>\n",
       "      <td>3.0</td>\n",
       "      <td>3.0</td>\n",
       "      <td>3715.0</td>\n",
       "      <td>1222271.0</td>\n",
       "      <td>1983.0</td>\n",
       "      <td>14064.68</td>\n",
       "      <td>6111</td>\n",
       "      <td>97099.0</td>\n",
       "      <td>Ventura County</td>\n",
       "      <td>CA</td>\n",
       "    </tr>\n",
       "    <tr>\n",
       "      <th>3</th>\n",
       "      <td>2.0</td>\n",
       "      <td>1.0</td>\n",
       "      <td>912.0</td>\n",
       "      <td>126974.0</td>\n",
       "      <td>1985.0</td>\n",
       "      <td>1489.06</td>\n",
       "      <td>6111</td>\n",
       "      <td>97094.0</td>\n",
       "      <td>Ventura County</td>\n",
       "      <td>CA</td>\n",
       "    </tr>\n",
       "    <tr>\n",
       "      <th>4</th>\n",
       "      <td>3.0</td>\n",
       "      <td>2.0</td>\n",
       "      <td>1595.0</td>\n",
       "      <td>315148.0</td>\n",
       "      <td>1984.0</td>\n",
       "      <td>3479.18</td>\n",
       "      <td>6111</td>\n",
       "      <td>97097.0</td>\n",
       "      <td>Ventura County</td>\n",
       "      <td>CA</td>\n",
       "    </tr>\n",
       "  </tbody>\n",
       "</table>\n",
       "</div>"
      ],
      "text/plain": [
       "   bedroomcnt  bathroomcnt  calculatedfinishedsquarefeet  taxvaluedollarcnt  \\\n",
       "0         3.0          2.0                        1772.0           418763.0   \n",
       "1         3.0          2.0                        1819.0           478430.0   \n",
       "2         3.0          3.0                        3715.0          1222271.0   \n",
       "3         2.0          1.0                         912.0           126974.0   \n",
       "4         3.0          2.0                        1595.0           315148.0   \n",
       "\n",
       "   yearbuilt  taxamount  fips  regionidzip          county state  \n",
       "0     1978.0    4464.42  6111      97089.0  Ventura County    CA  \n",
       "1     1981.0    5515.94  6111      97118.0  Ventura County    CA  \n",
       "2     1983.0   14064.68  6111      97099.0  Ventura County    CA  \n",
       "3     1985.0    1489.06  6111      97094.0  Ventura County    CA  \n",
       "4     1984.0    3479.18  6111      97097.0  Ventura County    CA  "
      ]
     },
     "execution_count": 6,
     "metadata": {},
     "output_type": "execute_result"
    }
   ],
   "source": [
    "zillow.head()"
   ]
  },
  {
   "cell_type": "code",
   "execution_count": 7,
   "id": "fee1035d",
   "metadata": {},
   "outputs": [],
   "source": [
    "# {6037: 'Los Angeles County, CA',\n",
    "#            6059: 'Orange County, CA',\n",
    "#            6111: 'Ventura County, CA'}, columns=['fips', 'fips_name']"
   ]
  },
  {
   "cell_type": "code",
   "execution_count": 8,
   "id": "984fbadb",
   "metadata": {},
   "outputs": [
    {
     "name": "stdout",
     "output_type": "stream",
     "text": [
      "<class 'pandas.core.frame.DataFrame'>\n",
      "Int64Index: 30870 entries, 0 to 30869\n",
      "Data columns (total 10 columns):\n",
      " #   Column                        Non-Null Count  Dtype  \n",
      "---  ------                        --------------  -----  \n",
      " 0   bedroomcnt                    30870 non-null  float64\n",
      " 1   bathroomcnt                   30870 non-null  float64\n",
      " 2   calculatedfinishedsquarefeet  30778 non-null  float64\n",
      " 3   taxvaluedollarcnt             30865 non-null  float64\n",
      " 4   yearbuilt                     30770 non-null  float64\n",
      " 5   taxamount                     30815 non-null  float64\n",
      " 6   fips                          30870 non-null  int64  \n",
      " 7   regionidzip                   30831 non-null  float64\n",
      " 8   county                        30870 non-null  object \n",
      " 9   state                         30870 non-null  object \n",
      "dtypes: float64(7), int64(1), object(2)\n",
      "memory usage: 2.6+ MB\n"
     ]
    }
   ],
   "source": [
    "zillow.info()"
   ]
  },
  {
   "cell_type": "code",
   "execution_count": 9,
   "id": "90bbd94d",
   "metadata": {},
   "outputs": [
    {
     "name": "stdout",
     "output_type": "stream",
     "text": [
      "<class 'pandas.core.frame.DataFrame'>\n",
      "Int64Index: 30699 entries, 0 to 30869\n",
      "Data columns (total 10 columns):\n",
      " #   Column                        Non-Null Count  Dtype  \n",
      "---  ------                        --------------  -----  \n",
      " 0   bedroomcnt                    30699 non-null  float64\n",
      " 1   bathroomcnt                   30699 non-null  float64\n",
      " 2   calculatedfinishedsquarefeet  30699 non-null  float64\n",
      " 3   taxvaluedollarcnt             30699 non-null  float64\n",
      " 4   yearbuilt                     30699 non-null  float64\n",
      " 5   taxamount                     30699 non-null  float64\n",
      " 6   fips                          30699 non-null  int64  \n",
      " 7   regionidzip                   30699 non-null  float64\n",
      " 8   county                        30699 non-null  object \n",
      " 9   state                         30699 non-null  object \n",
      "dtypes: float64(7), int64(1), object(2)\n",
      "memory usage: 2.6+ MB\n"
     ]
    }
   ],
   "source": [
    "zillow = zillow.replace(r'^\\s*$', np.nan, regex=True)\n",
    "zillow = zillow.dropna()\n",
    "zillow.info()"
   ]
  },
  {
   "cell_type": "code",
   "execution_count": 10,
   "id": "f996b99d",
   "metadata": {},
   "outputs": [
    {
     "ename": "NameError",
     "evalue": "name 'get_zipcode_data' is not defined",
     "output_type": "error",
     "traceback": [
      "\u001b[0;31m---------------------------------------------------------------------------\u001b[0m",
      "\u001b[0;31mNameError\u001b[0m                                 Traceback (most recent call last)",
      "\u001b[0;32m<ipython-input-10-cda6ef5dc3e6>\u001b[0m in \u001b[0;36m<module>\u001b[0;34m\u001b[0m\n\u001b[0;32m----> 1\u001b[0;31m \u001b[0mzips\u001b[0m \u001b[0;34m=\u001b[0m \u001b[0mget_zipcode_data\u001b[0m\u001b[0;34m(\u001b[0m\u001b[0;34m)\u001b[0m\u001b[0;34m\u001b[0m\u001b[0;34m\u001b[0m\u001b[0m\n\u001b[0m\u001b[1;32m      2\u001b[0m \u001b[0mzips\u001b[0m\u001b[0;34m.\u001b[0m\u001b[0mhead\u001b[0m\u001b[0;34m(\u001b[0m\u001b[0;34m)\u001b[0m\u001b[0;34m\u001b[0m\u001b[0;34m\u001b[0m\u001b[0m\n",
      "\u001b[0;31mNameError\u001b[0m: name 'get_zipcode_data' is not defined"
     ]
    }
   ],
   "source": [
    "zips = get_zipcode_data()\n",
    "zips.head()"
   ]
  },
  {
   "cell_type": "code",
   "execution_count": null,
   "id": "d2bcc6d7",
   "metadata": {},
   "outputs": [],
   "source": [
    "zips.info()"
   ]
  },
  {
   "cell_type": "code",
   "execution_count": null,
   "id": "326d9872",
   "metadata": {},
   "outputs": [],
   "source": [
    "zips.isnull().sum()"
   ]
  },
  {
   "cell_type": "code",
   "execution_count": null,
   "id": "89448835",
   "metadata": {},
   "outputs": [],
   "source": [
    "zips = zips.replace(r'^\\s*$', np.nan, regex=True)"
   ]
  },
  {
   "cell_type": "code",
   "execution_count": null,
   "id": "dfe839ab",
   "metadata": {},
   "outputs": [],
   "source": [
    "zips.isnull().sum()"
   ]
  },
  {
   "cell_type": "code",
   "execution_count": null,
   "id": "95a9dc62",
   "metadata": {},
   "outputs": [],
   "source": [
    "zips = zips.dropna()\n",
    "zips.info()"
   ]
  },
  {
   "cell_type": "code",
   "execution_count": null,
   "id": "f1073241",
   "metadata": {},
   "outputs": [],
   "source": [
    "zillow = zillow.rename(columns = {'bedroomcnt': 'bedrooms',\n",
    "                             'bathroomcnt': 'bathrooms',\n",
    "                             'calculatedfinishedsquarefeet': 'sqft',\n",
    "                             'taxvaluedollarcnt': 'tax_value',\n",
    "                             'taxamount': 'tax_amount',\n",
    "                             'yearbuilt': 'year_built',\n",
    "                             'regionidzip': 'zipcode'})\n",
    "\n",
    "zillow = zillow.replace(r'^\\s*$', np.nan, regex=True) # Format nulls\n",
    "zillow = zillow.dropna()    # drop nulls\n",
    "\n",
    "# Change bedroom count, year built, calculated finished squarefeet, and fips value type to int\n",
    "zillow.bedrooms = zillow.bedrooms.astype('int64')\n",
    "zillow.sqft = zillow.sqft.astype('int64')\n",
    "zillow.year_built = zillow.year_built.astype('int64')\n",
    "zillow.fips = zillow.fips.astype('int64')\n",
    "zillow.zipcode = zillow.zipcode.astype('int64')"
   ]
  },
  {
   "cell_type": "code",
   "execution_count": null,
   "id": "578704c1",
   "metadata": {},
   "outputs": [],
   "source": [
    "zillow.head()"
   ]
  },
  {
   "cell_type": "code",
   "execution_count": null,
   "id": "337a2738",
   "metadata": {},
   "outputs": [],
   "source": [
    "zips = zips.astype('int64')\n",
    "zips.head()"
   ]
  },
  {
   "cell_type": "code",
   "execution_count": null,
   "id": "5f02a391",
   "metadata": {},
   "outputs": [],
   "source": [
    "# Combining DFs\n",
    "zillow = zillow.merge(zips, left_on='zipcode', right_on='zipcode', how='outer', indicator=True)"
   ]
  },
  {
   "cell_type": "code",
   "execution_count": null,
   "id": "561fd94b",
   "metadata": {},
   "outputs": [],
   "source": [
    "zillow.info()"
   ]
  },
  {
   "cell_type": "code",
   "execution_count": null,
   "id": "43a0b8e1",
   "metadata": {},
   "outputs": [],
   "source": [
    "zillow = zillow.dropna()"
   ]
  },
  {
   "cell_type": "code",
   "execution_count": null,
   "id": "b22d27ec",
   "metadata": {},
   "outputs": [],
   "source": [
    "zillow.info()"
   ]
  },
  {
   "cell_type": "code",
   "execution_count": null,
   "id": "c75ea2d0",
   "metadata": {},
   "outputs": [],
   "source": [
    "zillow_test = zw.wrangle_zillow()\n",
    "zillow_test.info()"
   ]
  },
  {
   "cell_type": "code",
   "execution_count": null,
   "id": "62592329",
   "metadata": {},
   "outputs": [],
   "source": [
    "zillow.head(1)"
   ]
  },
  {
   "cell_type": "code",
   "execution_count": null,
   "id": "0425cbeb",
   "metadata": {},
   "outputs": [],
   "source": [
    "zillow_test.head(1)"
   ]
  },
  {
   "cell_type": "code",
   "execution_count": null,
   "id": "5b2ec47c",
   "metadata": {},
   "outputs": [],
   "source": []
  }
 ],
 "metadata": {
  "kernelspec": {
   "display_name": "Python 3",
   "language": "python",
   "name": "python3"
  },
  "language_info": {
   "codemirror_mode": {
    "name": "ipython",
    "version": 3
   },
   "file_extension": ".py",
   "mimetype": "text/x-python",
   "name": "python",
   "nbconvert_exporter": "python",
   "pygments_lexer": "ipython3",
   "version": "3.8.8"
  }
 },
 "nbformat": 4,
 "nbformat_minor": 5
}
