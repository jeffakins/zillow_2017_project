{
 "cells": [
  {
   "cell_type": "markdown",
   "id": "0bf70e18",
   "metadata": {},
   "source": [
    "## Scratchpad"
   ]
  },
  {
   "cell_type": "code",
   "execution_count": 1,
   "id": "7f6bbb76",
   "metadata": {},
   "outputs": [],
   "source": [
    "import env\n",
    "import zillow_wrangle as zw\n",
    "import pandas as pd\n",
    "import numpy as np\n",
    "import os"
   ]
  },
  {
   "cell_type": "code",
   "execution_count": 2,
   "id": "c327660a",
   "metadata": {},
   "outputs": [],
   "source": [
    "def get_connection(db, user=env.username, host=env.hostname, password=env.password):\n",
    "    connection_info = f'mysql+pymysql://{user}:{password}@{host}/{db}'\n",
    "    return connection_info"
   ]
  },
  {
   "cell_type": "code",
   "execution_count": 3,
   "id": "79cde409",
   "metadata": {},
   "outputs": [],
   "source": [
    "def get_zillow_data():\n",
    "    '''\n",
    "    Function to retrieve the 2017 Zillow Property Data Set from CODEUP's mySQL Server\n",
    "    '''\n",
    "    if os.path.isfile('2017_zillow_hot_month_properties.csv'):\n",
    "        df = pd.read_csv('2017_zillow_hot_month_properties.csv', index_col=0)  # If csv file exists read in data from csv file.\n",
    "    else:\n",
    "        sql = '''\n",
    "                SELECT bedroomcnt, bathroomcnt, \n",
    "                    calculatedfinishedsquarefeet, \n",
    "                    taxvaluedollarcnt, yearbuilt, \n",
    "                    taxamount, fips, regionidzip \n",
    "                FROM properties_2017\n",
    "                JOIN predictions_2017 USING(id)\n",
    "                WHERE propertylandusetypeid = 261\n",
    "                    AND transactiondate BETWEEN '2017-05-01' AND '2017-09-01';\n",
    "                '''   # SQL query\n",
    "                                                    \n",
    "        db = 'zillow'                                   # Database name\n",
    "        df = pd.read_sql(sql, get_connection(db))       # Pandas DataFrame\n",
    "        df.to_csv('2017_zillow_hot_month_properties.csv')         # Cache Data\n",
    "    return df"
   ]
  },
  {
   "cell_type": "code",
   "execution_count": 4,
   "id": "dadc2b60",
   "metadata": {},
   "outputs": [],
   "source": [
    "def get_zipcode_data():\n",
    "    '''\n",
    "    Function to retrieve the 2016 Zillow average zipcode Data from CODEUP's mySQL Server\n",
    "    '''\n",
    "    if os.path.isfile('2016_zillow_zipcodes.csv'):\n",
    "        df = pd.read_csv('2016_zillow_zipcodes.csv', index_col=0)  # If csv file exists read in data from csv file.\n",
    "    else:\n",
    "        sql = '''\n",
    "                SELECT COUNT(regionidzip) AS zipcode_count, \n",
    "                    regionidzip AS zipcode, \n",
    "                    ROUND(AVG(taxvaluedollarcnt),0) AS zipcode_avg_price\n",
    "                FROM properties_2016\n",
    "                WHERE propertylandusetypeid = 261\n",
    "                GROUP BY regionidzip\n",
    "                ORDER BY AVG(taxvaluedollarcnt) DESC;'''   # SQL query\n",
    "                                                    \n",
    "        db = 'zillow'                                   # Database name\n",
    "        df = pd.read_sql(sql, get_connection(db))       # Pandas DataFrame\n",
    "        df.to_csv('2016_zillow_zipcodes.csv')         # Cache Data\n",
    "    return df"
   ]
  },
  {
   "cell_type": "code",
   "execution_count": 5,
   "id": "16e12d45",
   "metadata": {},
   "outputs": [
    {
     "name": "stderr",
     "output_type": "stream",
     "text": [
      "/usr/local/anaconda3/lib/python3.8/site-packages/numpy/lib/arraysetops.py:583: FutureWarning: elementwise comparison failed; returning scalar instead, but in the future will perform elementwise comparison\n",
      "  mask |= (ar1 == a)\n"
     ]
    },
    {
     "data": {
      "text/html": [
       "<div>\n",
       "<style scoped>\n",
       "    .dataframe tbody tr th:only-of-type {\n",
       "        vertical-align: middle;\n",
       "    }\n",
       "\n",
       "    .dataframe tbody tr th {\n",
       "        vertical-align: top;\n",
       "    }\n",
       "\n",
       "    .dataframe thead th {\n",
       "        text-align: right;\n",
       "    }\n",
       "</style>\n",
       "<table border=\"1\" class=\"dataframe\">\n",
       "  <thead>\n",
       "    <tr style=\"text-align: right;\">\n",
       "      <th></th>\n",
       "      <th>bedroomcnt</th>\n",
       "      <th>bathroomcnt</th>\n",
       "      <th>calculatedfinishedsquarefeet</th>\n",
       "      <th>taxvaluedollarcnt</th>\n",
       "      <th>yearbuilt</th>\n",
       "      <th>taxamount</th>\n",
       "      <th>fips</th>\n",
       "    </tr>\n",
       "  </thead>\n",
       "  <tbody>\n",
       "    <tr>\n",
       "      <th>0</th>\n",
       "      <td>0.0</td>\n",
       "      <td>0.0</td>\n",
       "      <td>NaN</td>\n",
       "      <td>27516.0</td>\n",
       "      <td>NaN</td>\n",
       "      <td>NaN</td>\n",
       "      <td>6037.0</td>\n",
       "    </tr>\n",
       "    <tr>\n",
       "      <th>1</th>\n",
       "      <td>0.0</td>\n",
       "      <td>0.0</td>\n",
       "      <td>NaN</td>\n",
       "      <td>10.0</td>\n",
       "      <td>NaN</td>\n",
       "      <td>NaN</td>\n",
       "      <td>6037.0</td>\n",
       "    </tr>\n",
       "    <tr>\n",
       "      <th>2</th>\n",
       "      <td>0.0</td>\n",
       "      <td>0.0</td>\n",
       "      <td>NaN</td>\n",
       "      <td>10.0</td>\n",
       "      <td>NaN</td>\n",
       "      <td>NaN</td>\n",
       "      <td>6037.0</td>\n",
       "    </tr>\n",
       "    <tr>\n",
       "      <th>3</th>\n",
       "      <td>0.0</td>\n",
       "      <td>0.0</td>\n",
       "      <td>NaN</td>\n",
       "      <td>2108.0</td>\n",
       "      <td>NaN</td>\n",
       "      <td>174.21</td>\n",
       "      <td>6037.0</td>\n",
       "    </tr>\n",
       "    <tr>\n",
       "      <th>4</th>\n",
       "      <td>4.0</td>\n",
       "      <td>2.0</td>\n",
       "      <td>3633.0</td>\n",
       "      <td>296425.0</td>\n",
       "      <td>2005.0</td>\n",
       "      <td>6941.39</td>\n",
       "      <td>6037.0</td>\n",
       "    </tr>\n",
       "  </tbody>\n",
       "</table>\n",
       "</div>"
      ],
      "text/plain": [
       "   bedroomcnt  bathroomcnt  calculatedfinishedsquarefeet  taxvaluedollarcnt  \\\n",
       "0         0.0          0.0                           NaN            27516.0   \n",
       "1         0.0          0.0                           NaN               10.0   \n",
       "2         0.0          0.0                           NaN               10.0   \n",
       "3         0.0          0.0                           NaN             2108.0   \n",
       "4         4.0          2.0                        3633.0           296425.0   \n",
       "\n",
       "   yearbuilt  taxamount    fips  \n",
       "0        NaN        NaN  6037.0  \n",
       "1        NaN        NaN  6037.0  \n",
       "2        NaN        NaN  6037.0  \n",
       "3        NaN     174.21  6037.0  \n",
       "4     2005.0    6941.39  6037.0  "
      ]
     },
     "execution_count": 5,
     "metadata": {},
     "output_type": "execute_result"
    }
   ],
   "source": [
    "zillow = get_zillow_data()\n",
    "zillow.head()"
   ]
  },
  {
   "cell_type": "code",
   "execution_count": 6,
   "id": "e7a8e530",
   "metadata": {},
   "outputs": [
    {
     "name": "stdout",
     "output_type": "stream",
     "text": [
      "<class 'pandas.core.frame.DataFrame'>\n",
      "Int64Index: 2152863 entries, 0 to 2152862\n",
      "Data columns (total 7 columns):\n",
      " #   Column                        Dtype  \n",
      "---  ------                        -----  \n",
      " 0   bedroomcnt                    float64\n",
      " 1   bathroomcnt                   float64\n",
      " 2   calculatedfinishedsquarefeet  float64\n",
      " 3   taxvaluedollarcnt             float64\n",
      " 4   yearbuilt                     float64\n",
      " 5   taxamount                     float64\n",
      " 6   fips                          float64\n",
      "dtypes: float64(7)\n",
      "memory usage: 131.4 MB\n"
     ]
    }
   ],
   "source": [
    "zillow.info()"
   ]
  },
  {
   "cell_type": "code",
   "execution_count": 7,
   "id": "05744a30",
   "metadata": {},
   "outputs": [
    {
     "name": "stdout",
     "output_type": "stream",
     "text": [
      "<class 'pandas.core.frame.DataFrame'>\n",
      "Int64Index: 2140235 entries, 4 to 2152862\n",
      "Data columns (total 7 columns):\n",
      " #   Column                        Dtype  \n",
      "---  ------                        -----  \n",
      " 0   bedroomcnt                    float64\n",
      " 1   bathroomcnt                   float64\n",
      " 2   calculatedfinishedsquarefeet  float64\n",
      " 3   taxvaluedollarcnt             float64\n",
      " 4   yearbuilt                     float64\n",
      " 5   taxamount                     float64\n",
      " 6   fips                          float64\n",
      "dtypes: float64(7)\n",
      "memory usage: 130.6 MB\n"
     ]
    }
   ],
   "source": [
    "zillow = zillow.replace(r'^\\s*$', np.nan, regex=True)\n",
    "zillow = zillow.dropna()\n",
    "zillow.info()"
   ]
  },
  {
   "cell_type": "code",
   "execution_count": 8,
   "id": "8cacf3ee",
   "metadata": {},
   "outputs": [
    {
     "data": {
      "text/html": [
       "<div>\n",
       "<style scoped>\n",
       "    .dataframe tbody tr th:only-of-type {\n",
       "        vertical-align: middle;\n",
       "    }\n",
       "\n",
       "    .dataframe tbody tr th {\n",
       "        vertical-align: top;\n",
       "    }\n",
       "\n",
       "    .dataframe thead th {\n",
       "        text-align: right;\n",
       "    }\n",
       "</style>\n",
       "<table border=\"1\" class=\"dataframe\">\n",
       "  <thead>\n",
       "    <tr style=\"text-align: right;\">\n",
       "      <th></th>\n",
       "      <th>zipcode_count</th>\n",
       "      <th>zipcode</th>\n",
       "      <th>zipcode_avg_price</th>\n",
       "    </tr>\n",
       "  </thead>\n",
       "  <tbody>\n",
       "    <tr>\n",
       "      <th>0</th>\n",
       "      <td>7103</td>\n",
       "      <td>96086.0</td>\n",
       "      <td>2847596.0</td>\n",
       "    </tr>\n",
       "    <tr>\n",
       "      <th>1</th>\n",
       "      <td>2856</td>\n",
       "      <td>96975.0</td>\n",
       "      <td>2768183.0</td>\n",
       "    </tr>\n",
       "    <tr>\n",
       "      <th>2</th>\n",
       "      <td>3102</td>\n",
       "      <td>96058.0</td>\n",
       "      <td>2607519.0</td>\n",
       "    </tr>\n",
       "    <tr>\n",
       "      <th>3</th>\n",
       "      <td>5625</td>\n",
       "      <td>96116.0</td>\n",
       "      <td>2186823.0</td>\n",
       "    </tr>\n",
       "    <tr>\n",
       "      <th>4</th>\n",
       "      <td>7490</td>\n",
       "      <td>96030.0</td>\n",
       "      <td>1822090.0</td>\n",
       "    </tr>\n",
       "  </tbody>\n",
       "</table>\n",
       "</div>"
      ],
      "text/plain": [
       "   zipcode_count  zipcode  zipcode_avg_price\n",
       "0           7103  96086.0          2847596.0\n",
       "1           2856  96975.0          2768183.0\n",
       "2           3102  96058.0          2607519.0\n",
       "3           5625  96116.0          2186823.0\n",
       "4           7490  96030.0          1822090.0"
      ]
     },
     "execution_count": 8,
     "metadata": {},
     "output_type": "execute_result"
    }
   ],
   "source": [
    "zips = get_zipcode_data()\n",
    "zips.head()"
   ]
  },
  {
   "cell_type": "code",
   "execution_count": 9,
   "id": "b3b78a89",
   "metadata": {},
   "outputs": [
    {
     "name": "stdout",
     "output_type": "stream",
     "text": [
      "<class 'pandas.core.frame.DataFrame'>\n",
      "Int64Index: 399 entries, 0 to 398\n",
      "Data columns (total 3 columns):\n",
      " #   Column             Non-Null Count  Dtype  \n",
      "---  ------             --------------  -----  \n",
      " 0   zipcode_count      399 non-null    int64  \n",
      " 1   zipcode            398 non-null    float64\n",
      " 2   zipcode_avg_price  399 non-null    float64\n",
      "dtypes: float64(2), int64(1)\n",
      "memory usage: 12.5 KB\n"
     ]
    }
   ],
   "source": [
    "zips.info()"
   ]
  },
  {
   "cell_type": "code",
   "execution_count": 10,
   "id": "f6bb8aa2",
   "metadata": {},
   "outputs": [
    {
     "data": {
      "text/plain": [
       "zipcode_count        0\n",
       "zipcode              1\n",
       "zipcode_avg_price    0\n",
       "dtype: int64"
      ]
     },
     "execution_count": 10,
     "metadata": {},
     "output_type": "execute_result"
    }
   ],
   "source": [
    "zips.isnull().sum()"
   ]
  },
  {
   "cell_type": "code",
   "execution_count": 11,
   "id": "83121d3e",
   "metadata": {},
   "outputs": [],
   "source": [
    "zips = zips.replace(r'^\\s*$', np.nan, regex=True)"
   ]
  },
  {
   "cell_type": "code",
   "execution_count": 12,
   "id": "4523cb88",
   "metadata": {},
   "outputs": [
    {
     "data": {
      "text/plain": [
       "zipcode_count        0\n",
       "zipcode              1\n",
       "zipcode_avg_price    0\n",
       "dtype: int64"
      ]
     },
     "execution_count": 12,
     "metadata": {},
     "output_type": "execute_result"
    }
   ],
   "source": [
    "zips.isnull().sum()"
   ]
  },
  {
   "cell_type": "code",
   "execution_count": 13,
   "id": "a0436761",
   "metadata": {},
   "outputs": [
    {
     "name": "stdout",
     "output_type": "stream",
     "text": [
      "<class 'pandas.core.frame.DataFrame'>\n",
      "Int64Index: 398 entries, 0 to 398\n",
      "Data columns (total 3 columns):\n",
      " #   Column             Non-Null Count  Dtype  \n",
      "---  ------             --------------  -----  \n",
      " 0   zipcode_count      398 non-null    int64  \n",
      " 1   zipcode            398 non-null    float64\n",
      " 2   zipcode_avg_price  398 non-null    float64\n",
      "dtypes: float64(2), int64(1)\n",
      "memory usage: 12.4 KB\n"
     ]
    }
   ],
   "source": [
    "zips = zips.dropna()\n",
    "zips.info()"
   ]
  },
  {
   "cell_type": "code",
   "execution_count": 14,
   "id": "40b29936",
   "metadata": {},
   "outputs": [
    {
     "ename": "AttributeError",
     "evalue": "'DataFrame' object has no attribute 'zipcode'",
     "output_type": "error",
     "traceback": [
      "\u001b[0;31m---------------------------------------------------------------------------\u001b[0m",
      "\u001b[0;31mAttributeError\u001b[0m                            Traceback (most recent call last)",
      "\u001b[0;32m<ipython-input-14-bbfd49c2d03a>\u001b[0m in \u001b[0;36m<module>\u001b[0;34m\u001b[0m\n\u001b[1;32m     15\u001b[0m \u001b[0mzillow\u001b[0m\u001b[0;34m.\u001b[0m\u001b[0myear_built\u001b[0m \u001b[0;34m=\u001b[0m \u001b[0mzillow\u001b[0m\u001b[0;34m.\u001b[0m\u001b[0myear_built\u001b[0m\u001b[0;34m.\u001b[0m\u001b[0mastype\u001b[0m\u001b[0;34m(\u001b[0m\u001b[0;34m'int64'\u001b[0m\u001b[0;34m)\u001b[0m\u001b[0;34m\u001b[0m\u001b[0;34m\u001b[0m\u001b[0m\n\u001b[1;32m     16\u001b[0m \u001b[0mzillow\u001b[0m\u001b[0;34m.\u001b[0m\u001b[0mfips\u001b[0m \u001b[0;34m=\u001b[0m \u001b[0mzillow\u001b[0m\u001b[0;34m.\u001b[0m\u001b[0mfips\u001b[0m\u001b[0;34m.\u001b[0m\u001b[0mastype\u001b[0m\u001b[0;34m(\u001b[0m\u001b[0;34m'int64'\u001b[0m\u001b[0;34m)\u001b[0m\u001b[0;34m\u001b[0m\u001b[0;34m\u001b[0m\u001b[0m\n\u001b[0;32m---> 17\u001b[0;31m \u001b[0mzillow\u001b[0m\u001b[0;34m.\u001b[0m\u001b[0mzipcode\u001b[0m \u001b[0;34m=\u001b[0m \u001b[0mzillow\u001b[0m\u001b[0;34m.\u001b[0m\u001b[0mzipcode\u001b[0m\u001b[0;34m.\u001b[0m\u001b[0mastype\u001b[0m\u001b[0;34m(\u001b[0m\u001b[0;34m'int64'\u001b[0m\u001b[0;34m)\u001b[0m\u001b[0;34m\u001b[0m\u001b[0;34m\u001b[0m\u001b[0m\n\u001b[0m",
      "\u001b[0;32m/usr/local/anaconda3/lib/python3.8/site-packages/pandas/core/generic.py\u001b[0m in \u001b[0;36m__getattr__\u001b[0;34m(self, name)\u001b[0m\n\u001b[1;32m   5463\u001b[0m             \u001b[0;32mif\u001b[0m \u001b[0mself\u001b[0m\u001b[0;34m.\u001b[0m\u001b[0m_info_axis\u001b[0m\u001b[0;34m.\u001b[0m\u001b[0m_can_hold_identifiers_and_holds_name\u001b[0m\u001b[0;34m(\u001b[0m\u001b[0mname\u001b[0m\u001b[0;34m)\u001b[0m\u001b[0;34m:\u001b[0m\u001b[0;34m\u001b[0m\u001b[0;34m\u001b[0m\u001b[0m\n\u001b[1;32m   5464\u001b[0m                 \u001b[0;32mreturn\u001b[0m \u001b[0mself\u001b[0m\u001b[0;34m[\u001b[0m\u001b[0mname\u001b[0m\u001b[0;34m]\u001b[0m\u001b[0;34m\u001b[0m\u001b[0;34m\u001b[0m\u001b[0m\n\u001b[0;32m-> 5465\u001b[0;31m             \u001b[0;32mreturn\u001b[0m \u001b[0mobject\u001b[0m\u001b[0;34m.\u001b[0m\u001b[0m__getattribute__\u001b[0m\u001b[0;34m(\u001b[0m\u001b[0mself\u001b[0m\u001b[0;34m,\u001b[0m \u001b[0mname\u001b[0m\u001b[0;34m)\u001b[0m\u001b[0;34m\u001b[0m\u001b[0;34m\u001b[0m\u001b[0m\n\u001b[0m\u001b[1;32m   5466\u001b[0m \u001b[0;34m\u001b[0m\u001b[0m\n\u001b[1;32m   5467\u001b[0m     \u001b[0;32mdef\u001b[0m \u001b[0m__setattr__\u001b[0m\u001b[0;34m(\u001b[0m\u001b[0mself\u001b[0m\u001b[0;34m,\u001b[0m \u001b[0mname\u001b[0m\u001b[0;34m:\u001b[0m \u001b[0mstr\u001b[0m\u001b[0;34m,\u001b[0m \u001b[0mvalue\u001b[0m\u001b[0;34m)\u001b[0m \u001b[0;34m->\u001b[0m \u001b[0;32mNone\u001b[0m\u001b[0;34m:\u001b[0m\u001b[0;34m\u001b[0m\u001b[0;34m\u001b[0m\u001b[0m\n",
      "\u001b[0;31mAttributeError\u001b[0m: 'DataFrame' object has no attribute 'zipcode'"
     ]
    }
   ],
   "source": [
    "zillow = zillow.rename(columns = {'bedroomcnt': 'bedrooms',\n",
    "                             'bathroomcnt': 'bathrooms',\n",
    "                             'calculatedfinishedsquarefeet': 'sqft',\n",
    "                             'taxvaluedollarcnt': 'tax_value',\n",
    "                             'taxamount': 'tax_amount',\n",
    "                             'yearbuilt': 'year_built',\n",
    "                             'regionidzip': 'zipcode'})\n",
    "\n",
    "zillow = zillow.replace(r'^\\s*$', np.nan, regex=True) # Format nulls\n",
    "zillow = zillow.dropna()    # drop nulls\n",
    "\n",
    "# Change bedroom count, year built, calculated finished squarefeet, and fips value type to int\n",
    "zillow.bedrooms = zillow.bedrooms.astype('int64')\n",
    "zillow.sqft = zillow.sqft.astype('int64')\n",
    "zillow.year_built = zillow.year_built.astype('int64')\n",
    "zillow.fips = zillow.fips.astype('int64')\n",
    "zillow.zipcode = zillow.zipcode.astype('int64')"
   ]
  },
  {
   "cell_type": "code",
   "execution_count": null,
   "id": "cb463e6f",
   "metadata": {},
   "outputs": [],
   "source": [
    "zillow.head()"
   ]
  },
  {
   "cell_type": "code",
   "execution_count": null,
   "id": "51533e08",
   "metadata": {},
   "outputs": [],
   "source": [
    "zips = zips.astype('int64')\n",
    "zips.head()"
   ]
  },
  {
   "cell_type": "code",
   "execution_count": null,
   "id": "624a1fe5",
   "metadata": {},
   "outputs": [],
   "source": [
    "# Combining DFs\n",
    "zillow = zillow.merge(zips, left_on='zipcode', right_on='zipcode', how='outer', indicator=True)"
   ]
  },
  {
   "cell_type": "code",
   "execution_count": null,
   "id": "353b6fcb",
   "metadata": {},
   "outputs": [],
   "source": [
    "zillow.info()"
   ]
  },
  {
   "cell_type": "code",
   "execution_count": null,
   "id": "f5d4b4f6",
   "metadata": {},
   "outputs": [],
   "source": [
    "zillow = zillow.dropna()"
   ]
  },
  {
   "cell_type": "code",
   "execution_count": null,
   "id": "9372b8ff",
   "metadata": {},
   "outputs": [],
   "source": [
    "zillow.info()"
   ]
  },
  {
   "cell_type": "code",
   "execution_count": null,
   "id": "5247d271",
   "metadata": {},
   "outputs": [],
   "source": [
    "zillow_test = zw.wrangle_zillow()\n",
    "zillow_test.info()"
   ]
  },
  {
   "cell_type": "code",
   "execution_count": null,
   "id": "6d0c206e",
   "metadata": {},
   "outputs": [],
   "source": [
    "zillow.head(1)"
   ]
  },
  {
   "cell_type": "code",
   "execution_count": null,
   "id": "6582e6bf",
   "metadata": {},
   "outputs": [],
   "source": [
    "zillow_test.head(1)"
   ]
  },
  {
   "cell_type": "code",
   "execution_count": null,
   "id": "aa0c3f68",
   "metadata": {},
   "outputs": [],
   "source": []
  }
 ],
 "metadata": {
  "kernelspec": {
   "display_name": "Python 3",
   "language": "python",
   "name": "python3"
  },
  "language_info": {
   "codemirror_mode": {
    "name": "ipython",
    "version": 3
   },
   "file_extension": ".py",
   "mimetype": "text/x-python",
   "name": "python",
   "nbconvert_exporter": "python",
   "pygments_lexer": "ipython3",
   "version": "3.8.8"
  }
 },
 "nbformat": 4,
 "nbformat_minor": 5
}
